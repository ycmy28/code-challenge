{
 "cells": [
  {
   "cell_type": "code",
   "execution_count": 1,
   "metadata": {},
   "outputs": [],
   "source": [
    "#data challenge yudha"
   ]
  },
  {
   "cell_type": "markdown",
   "metadata": {},
   "source": [
    "### Importing Library"
   ]
  },
  {
   "cell_type": "code",
   "execution_count": 2,
   "metadata": {},
   "outputs": [],
   "source": [
    "import pandas as pd\n",
    "import numpy as np\n",
    "pd.set_option('display.float_format', lambda x: '%.2f' % x)"
   ]
  },
  {
   "cell_type": "markdown",
   "metadata": {},
   "source": [
    "### Import the Data"
   ]
  },
  {
   "cell_type": "code",
   "execution_count": 3,
   "metadata": {},
   "outputs": [],
   "source": [
    "#read employees data\n",
    "dtypes_employees = {'employe_id': int, 'branch_id': int, 'salary': int} #, 'join_date': str, 'resign_date': str}\n",
    "#parse_dates_employees = ['join_date', 'resign_date']\n",
    "employees = pd.read_csv('employees.csv', dtype=dtypes_employees, usecols=['employe_id', 'branch_id', 'salary']) #parse_dates=parse_dates_employees,\n",
    "\n",
    "#read timesheets data\n",
    "dtypes_timesheets = {'timesheet_id': int, 'employee_id': int, 'date': str, 'checkin': str, 'checkout': str}\n",
    "parse_dates_timesheets = ['date', 'checkin', 'checkout']\n",
    "timesheets = pd.read_csv('timesheets.csv', dtype=dtypes_timesheets, parse_dates=parse_dates_timesheets)"
   ]
  },
  {
   "cell_type": "code",
   "execution_count": 4,
   "metadata": {},
   "outputs": [],
   "source": [
    "#print(employees.info())\n",
    "#print(timesheets.info())\n",
    "#employees.describe()\n",
    "#timesheets.describe()"
   ]
  },
  {
   "cell_type": "markdown",
   "metadata": {},
   "source": [
    "#### preprocessing data"
   ]
  },
  {
   "cell_type": "code",
   "execution_count": 5,
   "metadata": {},
   "outputs": [
    {
     "name": "stdout",
     "output_type": "stream",
     "text": [
      "True\n",
      "False\n"
     ]
    }
   ],
   "source": [
    "#check duplicated\n",
    "print(employees.duplicated(subset=['employe_id']).any())\n",
    "print(timesheets.duplicated().any())"
   ]
  },
  {
   "cell_type": "code",
   "execution_count": 6,
   "metadata": {},
   "outputs": [
    {
     "data": {
      "text/html": [
       "<div>\n",
       "<style scoped>\n",
       "    .dataframe tbody tr th:only-of-type {\n",
       "        vertical-align: middle;\n",
       "    }\n",
       "\n",
       "    .dataframe tbody tr th {\n",
       "        vertical-align: top;\n",
       "    }\n",
       "\n",
       "    .dataframe thead th {\n",
       "        text-align: right;\n",
       "    }\n",
       "</style>\n",
       "<table border=\"1\" class=\"dataframe\">\n",
       "  <thead>\n",
       "    <tr style=\"text-align: right;\">\n",
       "      <th></th>\n",
       "      <th>employe_id</th>\n",
       "      <th>branch_id</th>\n",
       "      <th>salary</th>\n",
       "    </tr>\n",
       "  </thead>\n",
       "  <tbody>\n",
       "    <tr>\n",
       "      <th>163</th>\n",
       "      <td>218078</td>\n",
       "      <td>1</td>\n",
       "      <td>10500000</td>\n",
       "    </tr>\n",
       "    <tr>\n",
       "      <th>164</th>\n",
       "      <td>218078</td>\n",
       "      <td>1</td>\n",
       "      <td>13000000</td>\n",
       "    </tr>\n",
       "  </tbody>\n",
       "</table>\n",
       "</div>"
      ],
      "text/plain": [
       "     employe_id  branch_id    salary\n",
       "163      218078          1  10500000\n",
       "164      218078          1  13000000"
      ]
     },
     "execution_count": 6,
     "metadata": {},
     "output_type": "execute_result"
    }
   ],
   "source": [
    "#see the list of duplicated data\n",
    "employees[employees.duplicated(subset=['employe_id'], keep=False)]"
   ]
  },
  {
   "cell_type": "code",
   "execution_count": 7,
   "metadata": {},
   "outputs": [],
   "source": [
    "#remove duplicate and keep the latest one\n",
    "employees = employees.drop_duplicates(subset=['employe_id'], keep='last')"
   ]
  },
  {
   "cell_type": "code",
   "execution_count": 22,
   "metadata": {},
   "outputs": [],
   "source": [
    "#handling missing value on checkout fields, approach is fill with the average time\n",
    "#timesheets['checkout'].fillna(timesheets.checkout.mean(), inplace=True)\n",
    "\n",
    "#drop null values on checkout\n",
    "timesheets.dropna(subset=['checkout'],inplace=True)"
   ]
  },
  {
   "cell_type": "code",
   "execution_count": 9,
   "metadata": {},
   "outputs": [],
   "source": [
    "#create new feature, working_hours as checkin and checkout difference\n",
    "timesheets['working_hours'] = (timesheets.checkout - timesheets.checkin).astype('timedelta64[h]')"
   ]
  },
  {
   "cell_type": "code",
   "execution_count": 36,
   "metadata": {},
   "outputs": [],
   "source": [
    "#merge employee and timesheet data\n",
    "merge_df = employees.merge(timesheets, left_on=['employe_id'], right_on=['employee_id'], how='left')"
   ]
  },
  {
   "cell_type": "markdown",
   "metadata": {},
   "source": [
    "#### create the asked fields"
   ]
  },
  {
   "cell_type": "code",
   "execution_count": 11,
   "metadata": {},
   "outputs": [],
   "source": [
    "merge_df['date'] = merge_df['date'].dt.to_period('M')\n",
    "df_added_field = merge_df.groupby(['date','branch_id'], as_index=False)[[\"salary\", \"working_hours\"]].sum()\n",
    "df_added_field['year'] = df_added_field['date'].dt.year\n",
    "df_added_field['month'] = df_added_field['date'].dt.month\n",
    "df_added_field['salary_per_hour'] = df_added_field['salary']/df_added_field['working_hours']\n",
    "final = df_added_field[['year', 'month', 'branch_id', 'salary_per_hour']].sort_values(by=['year', 'month', 'branch_id'])"
   ]
  },
  {
   "cell_type": "code",
   "execution_count": 35,
   "metadata": {},
   "outputs": [],
   "source": [
    "def add_salary_per_hour(df):\n",
    "    df['date'] = df['date'].dt.to_period('M')\n",
    "    df_added_field = df.groupby(['date','branch_id'], as_index=False)[[\"salary\", \"working_hours\"]].sum()\n",
    "    df_added_field['year'] = df_added_field['date'].dt.year\n",
    "    df_added_field['month'] = df_added_field['date'].dt.month\n",
    "    df_added_field['salary_per_hour'] = df_added_field['salary']/df_added_field['working_hours']\n",
    "    final = df_added_field[['year', 'month', 'branch_id', 'salary_per_hour']].sort_values(by=['year', 'month', 'branch_id'])\n",
    "    return final"
   ]
  },
  {
   "cell_type": "code",
   "execution_count": 12,
   "metadata": {},
   "outputs": [],
   "source": [
    "#df_added_field = merge_df.groupby(['date','branch_id'], as_index=False)[[\"salary\", \"working_hours\"]].sum()\n",
    "#df_added_field.sort_values(by=['date', 'branch_id'])"
   ]
  },
  {
   "cell_type": "code",
   "execution_count": null,
   "metadata": {},
   "outputs": [],
   "source": [
    "salary_per_hour.append(final, ignore_index = True)"
   ]
  }
 ],
 "metadata": {
  "kernelspec": {
   "display_name": "Python 3.9.0 ('mongospark')",
   "language": "python",
   "name": "python3"
  },
  "language_info": {
   "codemirror_mode": {
    "name": "ipython",
    "version": 3
   },
   "file_extension": ".py",
   "mimetype": "text/x-python",
   "name": "python",
   "nbconvert_exporter": "python",
   "pygments_lexer": "ipython3",
   "version": "3.9.0"
  },
  "orig_nbformat": 4,
  "vscode": {
   "interpreter": {
    "hash": "f142fe952a963d0d91d14d28edf75f8c48059e475be8526510fff7b2d084f2db"
   }
  }
 },
 "nbformat": 4,
 "nbformat_minor": 2
}
